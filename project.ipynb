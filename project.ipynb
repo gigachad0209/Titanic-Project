{
 "cells": [
  {
   "cell_type": "markdown",
   "metadata": {},
   "source": [
    "<div style=\"text-align: center; background-color: #559cff; font-family: 'Trebuchet MS', Arial, sans-serif; color: white; padding: 20px; font-size: 40px; font-weight: bold; border-radius: 0 0 0 0; box-shadow: 0px 6px 8px rgba(0, 0, 0, 0.2);\">\n",
    "   Final Project - Introduction To Data Science \n",
    "</div>"
   ]
  },
  {
   "cell_type": "markdown",
   "metadata": {},
   "source": [
    "<div style=\"text-align: center; background-color: #b1d1ff; font-family: 'Trebuchet MS', Arial, sans-serif; color: white; padding: 20px; font-size: 40px; font-weight: bold; border-radius: 0 0 0 0; box-shadow: 0px 6px 8px rgba(0, 0, 0, 0.2);\">\n",
    "  Data Collection and Preprocessing\n",
    "</div>"
   ]
  },
  {
   "cell_type": "markdown",
   "metadata": {},
   "source": [
    "## Import"
   ]
  },
  {
   "cell_type": "code",
   "execution_count": 25,
   "metadata": {},
   "outputs": [],
   "source": [
    "import pandas as pd\n",
    "import requests\n",
    "import json"
   ]
  },
  {
   "cell_type": "markdown",
   "metadata": {},
   "source": [
    "## Data Collection"
   ]
  },
  {
   "cell_type": "markdown",
   "metadata": {},
   "source": [
    "Our group chose the website https://www.communitybenefitinsight.org/?page=info.data_api to collect our data. This website contains information about hospitals across the United States. \n",
    "The Community Benefit Insight data API allows us to retrieve the following types of data:\n",
    "+ Hospital data (optionally filtered by state)\n",
    "+ Detailed data about a single hospital"
   ]
  },
  {
   "cell_type": "markdown",
   "metadata": {},
   "source": [
    "### Retrieve hospital data\n",
    "\n",
    "The link https://www.communitybenefitinsight.org/api/get_hospitals.php gives brief data about all hospitals in the United States."
   ]
  },
  {
   "cell_type": "code",
   "execution_count": 26,
   "metadata": {},
   "outputs": [],
   "source": [
    "url = 'https://www.communitybenefitinsight.org/api/get_hospitals.php'\n",
    "data = requests.get(url).text\n",
    "hospital_data = json.loads(data)\n",
    "attribute_names = list(hospital_data[0].keys())\n",
    "data = {}\n",
    "for attribute in attribute_names:\n",
    "    data[attribute] = [item[attribute] for item in hospital_data]\n",
    "df = pd.DataFrame.from_dict(data)\n",
    "df.to_csv('../data/full_hospital.csv', index=False)"
   ]
  },
  {
   "cell_type": "markdown",
   "metadata": {},
   "source": [
    "### Retrieve detailed data from every hospital\n",
    "\n",
    "To retrieve data for each hospital, we use https://www.communitybenefitinsight.org/api/get_hospital_data.php?hospital_id= + ID (ID is the hospital ID)"
   ]
  },
  {
   "cell_type": "markdown",
   "metadata": {},
   "source": [
    "Get attributes for the dataset "
   ]
  },
  {
   "cell_type": "code",
   "execution_count": 27,
   "metadata": {},
   "outputs": [
    {
     "data": {
      "text/plain": [
       "['hospital_data_id',\n",
       " 'fiscal_yr',\n",
       " 'data_ein',\n",
       " 'data_name',\n",
       " 'form_990_filed_part_grp_ret_f',\n",
       " 'form_990_num_fac_oper',\n",
       " 'form_990_name',\n",
       " 'form_990_address',\n",
       " 'form_990_city',\n",
       " 'form_990_state',\n",
       " 'form_990_zip',\n",
       " 'tot_func_exp',\n",
       " 'tot_revenue',\n",
       " 'tot_comm_bnfts',\n",
       " 'chrty_care',\n",
       " 'unreim_medcd',\n",
       " 'unreim_costs',\n",
       " 'comm_hlth_impr_svcs_comm_bnft_oper',\n",
       " 'hlth_prof_educ',\n",
       " 'subsd_hlth_svcs',\n",
       " 'rsrch',\n",
       " 'cash_inknd_contrib_comm_grps',\n",
       " 'comm_bldg',\n",
       " 'comm_bldg_actvs',\n",
       " 'comm_bldg_actvs_physimprvhse',\n",
       " 'comm_bldg_actvs_econdevlp',\n",
       " 'comm_bldg_actvs_cmntysuprt',\n",
       " 'comm_bldg_actvs_envrnimprv',\n",
       " 'comm_bldg_actvs_ldrdevlp',\n",
       " 'comm_bldg_actvs_cltnbldg',\n",
       " 'comm_bldg_actvs_htlhimprvadvcy',\n",
       " 'comm_bldg_actvs_wrkfrcdevlp',\n",
       " 'comm_bldg_actvs_other',\n",
       " 'comm_bldg_actvs_physimprvhse_pct',\n",
       " 'comm_bldg_actvs_econdevlp_pct',\n",
       " 'comm_bldg_actvs_cmntysuprt_pct',\n",
       " 'comm_bldg_actvs_envrnimprv_pct',\n",
       " 'comm_bldg_actvs_ldrdevlp_pct',\n",
       " 'comm_bldg_actvs_cltnbldg_pct',\n",
       " 'comm_bldg_actvs_htlhimprvadvcy_pct',\n",
       " 'comm_bldg_actvs_wrkfrcdevlp_pct',\n",
       " 'comm_bldg_actvs_other_pct',\n",
       " 'bad_debt',\n",
       " 'bad_debt_tot_func_exp_atrb_pat_elig_fncl_asst',\n",
       " 'mdcre_shrtfl',\n",
       " 'tot_comm_bnfts_tot_func_exp_pct',\n",
       " 'chrty_care_tot_func_exp_pct',\n",
       " 'unreim_medcd_tot_func_exp_pct',\n",
       " 'unreim_costs_tot_func_exp_pct',\n",
       " 'comm_hlth_impr_svcs_comm_bnft_oper_tot_func_exp_pct',\n",
       " 'hlth_prof_educ_tot_func_exp_pct',\n",
       " 'subsd_hlth_svcs_tot_func_exp_pct',\n",
       " 'rsrch_tot_func_exp_pct',\n",
       " 'cash_inknd_contrib_comm_grps_tot_func_exp_pct',\n",
       " 'hosp_rpt_comm_bldg_actvs_f',\n",
       " 'comm_bldg_tot_func_exp_pct',\n",
       " 'comm_bldg_actvs_tot_func_exp_pct',\n",
       " 'bad_debt_tot_func_exp_pct',\n",
       " 'bad_debt_tot_func_exp_atrb_pat_elig_fncl_asst_pct',\n",
       " 'mdcre_shrtfl_tot_func_exp_pct',\n",
       " 'rat_pat_care_npat_care_comm_bnfts',\n",
       " 'sole_comm_prov_f',\n",
       " 'written_fncl_asst_policy_f',\n",
       " 'used_fed_pov_gdlns_det_elig_free_disc_care_f',\n",
       " 'rpted_credit_agency_f',\n",
       " 'filed_lawsuit_f',\n",
       " 'placed_liens_resdnc_f',\n",
       " 'issued_body_attch_f',\n",
       " 'chna_cond_comm_hlth_needs_assmt_f',\n",
       " 'chna_defined_comm_served_f',\n",
       " 'chna_took_into_acct_input_ppl_rep_broad_intrst_comm_served_f',\n",
       " 'chna_cond_w_mult_hosp_facilities_f',\n",
       " 'chna_made_wide_avail_pub_f',\n",
       " 'hosp_adp_imp_stg_addr_hlth_needs_comm_f',\n",
       " 'hosp_exe_imp_stg_addr_hlth_needs_comm_f',\n",
       " 'hosp_prtcp_dev_commwide_comm_bnft_plan_f',\n",
       " 'per_capita_inc_qrt',\n",
       " 'per_capita_inc',\n",
       " 'med_hsehld_inc_qrt',\n",
       " 'med_hsehld_inc',\n",
       " 'percent_ppl_pov_qrt',\n",
       " 'percent_ppl_pov_pct',\n",
       " 'percent_ppl_65_yrs_old_without_hlth_insr_qrt',\n",
       " 'percent_ppl_65_yrs_old_without_hlth_insr_pct',\n",
       " 'unemp_rate_16_yrs_older_qrt',\n",
       " 'unemp_rate_16_yrs_older',\n",
       " 'st_impl_aca_medcd_exp_cvrg_adlts_w_incs_up_138pct_fpl_f',\n",
       " 'st_inc_elig_prnts_dep_chldrn_enrol_medcd_ltd_76pct_fpl_less_f',\n",
       " 'st_law_req_hosp_rpt_comm_bnfts_f',\n",
       " 'paper_return_f',\n",
       " 'netcommbldgexpns_total',\n",
       " 'numactpgm_physimprvhse',\n",
       " 'numactpgm_econdevlp',\n",
       " 'numactpgm_cmntysuprt',\n",
       " 'numactpgm_envrnimprv',\n",
       " 'numactpgm_ldrdevlp',\n",
       " 'numactpgm_cltnbldg',\n",
       " 'numactpgm_htlhimprvadvcy',\n",
       " 'numactpgm_wrkfrcdevlp',\n",
       " 'numactpgm_other',\n",
       " 'numactpgm_total',\n",
       " 'prsnssrvd_physimprvhse',\n",
       " 'prsnssrvd_econdevlp',\n",
       " 'prsnssrvd_cmntysuprt',\n",
       " 'prsnssrvd_envrnimprv',\n",
       " 'prsnssrvd_ldrdevlp',\n",
       " 'prsnssrvd_cltnbldg',\n",
       " 'prsnssrvd_htlhimprvadvcy',\n",
       " 'prsnssrvd_wrkfrcdevlp',\n",
       " 'prsnssrvd_other',\n",
       " 'prsnssrvd_total',\n",
       " 'ttlcommbldgexpns_physimprvhse',\n",
       " 'ttlcommbldgexpns_econdevlp',\n",
       " 'ttlcommbldgexpns_cmntysuprt',\n",
       " 'ttlcommbldgexpns_envrnimprv',\n",
       " 'ttlcommbldgexpns_ldrdevlp',\n",
       " 'ttlcommbldgexpns_cltnbldg',\n",
       " 'ttlcommbldgexpns_htlhimprvadvcy',\n",
       " 'ttlcommbldgexpns_wrkfrcdevlp',\n",
       " 'ttlcommbldgexpns_other',\n",
       " 'ttlcommbldgexpns_total',\n",
       " 'diroffsetrev_physimprvhse',\n",
       " 'diroffsetrev_econdevlp',\n",
       " 'diroffsetrev_cmntysuprt',\n",
       " 'diroffsetrev_envrnimprv',\n",
       " 'diroffsetrev_ldrdevlp',\n",
       " 'diroffsetrev_cltnbldg',\n",
       " 'diroffsetrev_htlhimprvadvcy',\n",
       " 'diroffsetrev_wrkfrcdevlp',\n",
       " 'diroffsetrev_other',\n",
       " 'diroffsetrev_total',\n",
       " 'pctttlexp_physimprvhse',\n",
       " 'pctttlexp_econdevlp',\n",
       " 'pctttlexp_cmntysuprt',\n",
       " 'pctttlexp_envrnimprv',\n",
       " 'pctttlexp_ldrdevlp',\n",
       " 'pctttlexp_cltnbldg',\n",
       " 'pctttlexp_htlhimprvadvcy',\n",
       " 'pctttlexp_wrkfrcdevlp',\n",
       " 'pctttlexp_other',\n",
       " 'pctttlexp_total',\n",
       " 'updated_dt']"
      ]
     },
     "execution_count": 27,
     "metadata": {},
     "output_type": "execute_result"
    }
   ],
   "source": [
    "url = 'https://www.communitybenefitinsight.org/api/get_hospital_data.php?hospital_id=1'\n",
    "data = requests.get(url).text\n",
    "web = json.loads(data)\n",
    "attribute = list(web[-1].keys())\n",
    "attribute"
   ]
  },
  {
   "cell_type": "markdown",
   "metadata": {},
   "source": [
    "Create a dictionary to store value for each attribute. The dictionary has one extra key to store the hospital id."
   ]
  },
  {
   "cell_type": "code",
   "execution_count": 28,
   "metadata": {},
   "outputs": [],
   "source": [
    "single_data = {}\n",
    "single_data['hospital_id'] = []\n",
    "for name in attribute:\n",
    "    single_data[name] = []"
   ]
  },
  {
   "cell_type": "markdown",
   "metadata": {},
   "source": [
    "There are total 3491 hospitals in the dataset but the website only allowed us to make 100 requests per week. So I had to change my VPN to retrieve information about 100 hospitals at a time by changing loop range and running the cell repeatedly.\n",
    "\n",
    "The data about a specific hospital is updated every year so our group only retrieved the data of the latest year.\n"
   ]
  },
  {
   "cell_type": "markdown",
   "metadata": {},
   "source": [
    "```\n",
    "for id in range(1, 100):\n",
    "    new_url = 'https://www.communitybenefitinsight.org/api/get_hospital_data.php?hospital_id=' + str(id)\n",
    "    new_data = requests.get(new_url).text\n",
    "    json_data = json.loads(new_data)\n",
    "    for name in attribute:\n",
    "        single_data[name].append(json_data[-1][name])\n",
    "    single_data['hospital_id'].append(id)\n",
    "```"
   ]
  },
  {
   "cell_type": "markdown",
   "metadata": {},
   "source": [
    "After changing the loop range multiple times, single_data would store the detailed data about all hospitals in it. We save the dictionary as csv format."
   ]
  },
  {
   "cell_type": "markdown",
   "metadata": {},
   "source": [
    "```\n",
    "df = pd.DataFrame.from_dict(single_data)\n",
    "df.to_csv('../data/single_hospital.csv', index=False)\n",
    "```"
   ]
  },
  {
   "cell_type": "markdown",
   "metadata": {},
   "source": [
    "Finally we will concatenate that dataset to the first one based on the hospital_id attribute."
   ]
  },
  {
   "cell_type": "code",
   "execution_count": 29,
   "metadata": {},
   "outputs": [
    {
     "data": {
      "text/html": [
       "<div>\n",
       "<style scoped>\n",
       "    .dataframe tbody tr th:only-of-type {\n",
       "        vertical-align: middle;\n",
       "    }\n",
       "\n",
       "    .dataframe tbody tr th {\n",
       "        vertical-align: top;\n",
       "    }\n",
       "\n",
       "    .dataframe thead th {\n",
       "        text-align: right;\n",
       "    }\n",
       "</style>\n",
       "<table border=\"1\" class=\"dataframe\">\n",
       "  <thead>\n",
       "    <tr style=\"text-align: right;\">\n",
       "      <th></th>\n",
       "      <th>hospital_id</th>\n",
       "      <th>hospital_org_id</th>\n",
       "      <th>ein</th>\n",
       "      <th>name</th>\n",
       "      <th>name_cr</th>\n",
       "      <th>street_address</th>\n",
       "      <th>city</th>\n",
       "      <th>state</th>\n",
       "      <th>zip_code</th>\n",
       "      <th>fips_state_and_county_code</th>\n",
       "      <th>...</th>\n",
       "      <th>pctttlexp_econdevlp</th>\n",
       "      <th>pctttlexp_cmntysuprt</th>\n",
       "      <th>pctttlexp_envrnimprv</th>\n",
       "      <th>pctttlexp_ldrdevlp</th>\n",
       "      <th>pctttlexp_cltnbldg</th>\n",
       "      <th>pctttlexp_htlhimprvadvcy</th>\n",
       "      <th>pctttlexp_wrkfrcdevlp</th>\n",
       "      <th>pctttlexp_other</th>\n",
       "      <th>pctttlexp_total</th>\n",
       "      <th>updated_dt_y</th>\n",
       "    </tr>\n",
       "  </thead>\n",
       "  <tbody>\n",
       "    <tr>\n",
       "      <th>0</th>\n",
       "      <td>1</td>\n",
       "      <td>1</td>\n",
       "      <td>630307951</td>\n",
       "      <td>Mizell Memorial Hospital</td>\n",
       "      <td>Mizell Memorial Hospital</td>\n",
       "      <td>702 Main Street</td>\n",
       "      <td>Opp</td>\n",
       "      <td>AL</td>\n",
       "      <td>36462</td>\n",
       "      <td>1039</td>\n",
       "      <td>...</td>\n",
       "      <td>0.0</td>\n",
       "      <td>0.0001</td>\n",
       "      <td>0.0</td>\n",
       "      <td>0.0</td>\n",
       "      <td>0.0</td>\n",
       "      <td>0.0001</td>\n",
       "      <td>0.0017</td>\n",
       "      <td>0.0</td>\n",
       "      <td>0.0019</td>\n",
       "      <td>November 20, 2023</td>\n",
       "    </tr>\n",
       "    <tr>\n",
       "      <th>1</th>\n",
       "      <td>2</td>\n",
       "      <td>2</td>\n",
       "      <td>630578923</td>\n",
       "      <td>St Vincents East</td>\n",
       "      <td>St Vincents East</td>\n",
       "      <td>50 Medical Park Drive East</td>\n",
       "      <td>Birmingham</td>\n",
       "      <td>AL</td>\n",
       "      <td>35235</td>\n",
       "      <td>1073</td>\n",
       "      <td>...</td>\n",
       "      <td>0.0</td>\n",
       "      <td>0.0000</td>\n",
       "      <td>0.0</td>\n",
       "      <td>0.0</td>\n",
       "      <td>0.0</td>\n",
       "      <td>0.0000</td>\n",
       "      <td>0.0000</td>\n",
       "      <td>0.0</td>\n",
       "      <td>0.0000</td>\n",
       "      <td>November 20, 2023</td>\n",
       "    </tr>\n",
       "    <tr>\n",
       "      <th>2</th>\n",
       "      <td>3</td>\n",
       "      <td>3</td>\n",
       "      <td>630312913</td>\n",
       "      <td>Shelby Baptist Medical Center</td>\n",
       "      <td>Shelby Baptist Medical Center</td>\n",
       "      <td>1000 First Street North</td>\n",
       "      <td>Alabaster</td>\n",
       "      <td>AL</td>\n",
       "      <td>35007</td>\n",
       "      <td>1117</td>\n",
       "      <td>...</td>\n",
       "      <td>0.0</td>\n",
       "      <td>0.0000</td>\n",
       "      <td>0.0</td>\n",
       "      <td>0.0</td>\n",
       "      <td>0.0</td>\n",
       "      <td>0.0000</td>\n",
       "      <td>0.0000</td>\n",
       "      <td>0.0</td>\n",
       "      <td>0.0000</td>\n",
       "      <td>November 20, 2023</td>\n",
       "    </tr>\n",
       "    <tr>\n",
       "      <th>3</th>\n",
       "      <td>4</td>\n",
       "      <td>4</td>\n",
       "      <td>630459034</td>\n",
       "      <td>Callahan Eye Foundation Hosp</td>\n",
       "      <td>Callahan Eye Foundation Hosp</td>\n",
       "      <td>1720 University Boulevard</td>\n",
       "      <td>Birmingham</td>\n",
       "      <td>AL</td>\n",
       "      <td>35233</td>\n",
       "      <td>1073</td>\n",
       "      <td>...</td>\n",
       "      <td>0.0</td>\n",
       "      <td>0.0000</td>\n",
       "      <td>0.0</td>\n",
       "      <td>0.0</td>\n",
       "      <td>0.0</td>\n",
       "      <td>0.0000</td>\n",
       "      <td>0.0000</td>\n",
       "      <td>0.0</td>\n",
       "      <td>0.0000</td>\n",
       "      <td>November 20, 2023</td>\n",
       "    </tr>\n",
       "    <tr>\n",
       "      <th>4</th>\n",
       "      <td>5</td>\n",
       "      <td>5</td>\n",
       "      <td>581973570</td>\n",
       "      <td>Cherokee Medical Center</td>\n",
       "      <td>Cherokee Medical Center</td>\n",
       "      <td>400 Northwood Drive</td>\n",
       "      <td>Centre</td>\n",
       "      <td>AL</td>\n",
       "      <td>35960</td>\n",
       "      <td>1019</td>\n",
       "      <td>...</td>\n",
       "      <td>0.0</td>\n",
       "      <td>0.0000</td>\n",
       "      <td>0.0</td>\n",
       "      <td>0.0</td>\n",
       "      <td>0.0</td>\n",
       "      <td>0.0000</td>\n",
       "      <td>0.0000</td>\n",
       "      <td>0.0</td>\n",
       "      <td>0.0000</td>\n",
       "      <td>November 20, 2023</td>\n",
       "    </tr>\n",
       "  </tbody>\n",
       "</table>\n",
       "<p>5 rows × 161 columns</p>\n",
       "</div>"
      ],
      "text/plain": [
       "   hospital_id  hospital_org_id        ein                           name  \\\n",
       "0            1                1  630307951       Mizell Memorial Hospital   \n",
       "1            2                2  630578923               St Vincents East   \n",
       "2            3                3  630312913  Shelby Baptist Medical Center   \n",
       "3            4                4  630459034   Callahan Eye Foundation Hosp   \n",
       "4            5                5  581973570        Cherokee Medical Center   \n",
       "\n",
       "                         name_cr              street_address        city  \\\n",
       "0       Mizell Memorial Hospital             702 Main Street         Opp   \n",
       "1               St Vincents East  50 Medical Park Drive East  Birmingham   \n",
       "2  Shelby Baptist Medical Center     1000 First Street North   Alabaster   \n",
       "3   Callahan Eye Foundation Hosp   1720 University Boulevard  Birmingham   \n",
       "4        Cherokee Medical Center         400 Northwood Drive      Centre   \n",
       "\n",
       "  state  zip_code  fips_state_and_county_code  ...  pctttlexp_econdevlp  \\\n",
       "0    AL     36462                        1039  ...                  0.0   \n",
       "1    AL     35235                        1073  ...                  0.0   \n",
       "2    AL     35007                        1117  ...                  0.0   \n",
       "3    AL     35233                        1073  ...                  0.0   \n",
       "4    AL     35960                        1019  ...                  0.0   \n",
       "\n",
       "  pctttlexp_cmntysuprt pctttlexp_envrnimprv pctttlexp_ldrdevlp  \\\n",
       "0               0.0001                  0.0                0.0   \n",
       "1               0.0000                  0.0                0.0   \n",
       "2               0.0000                  0.0                0.0   \n",
       "3               0.0000                  0.0                0.0   \n",
       "4               0.0000                  0.0                0.0   \n",
       "\n",
       "  pctttlexp_cltnbldg  pctttlexp_htlhimprvadvcy pctttlexp_wrkfrcdevlp  \\\n",
       "0                0.0                    0.0001                0.0017   \n",
       "1                0.0                    0.0000                0.0000   \n",
       "2                0.0                    0.0000                0.0000   \n",
       "3                0.0                    0.0000                0.0000   \n",
       "4                0.0                    0.0000                0.0000   \n",
       "\n",
       "  pctttlexp_other pctttlexp_total       updated_dt_y  \n",
       "0             0.0          0.0019  November 20, 2023  \n",
       "1             0.0          0.0000  November 20, 2023  \n",
       "2             0.0          0.0000  November 20, 2023  \n",
       "3             0.0          0.0000  November 20, 2023  \n",
       "4             0.0          0.0000  November 20, 2023  \n",
       "\n",
       "[5 rows x 161 columns]"
      ]
     },
     "execution_count": 29,
     "metadata": {},
     "output_type": "execute_result"
    }
   ],
   "source": [
    "first_df = pd.read_csv('../data/full_hospital.csv')\n",
    "second_df = pd.read_csv('../data/single_hospital.csv')\n",
    "raw_df = pd.merge(first_df, second_df, on='hospital_id')\n",
    "raw_df.to_csv('../data/raw_data.csv', index = False)\n",
    "raw_df.head(5)"
   ]
  },
  {
   "cell_type": "markdown",
   "metadata": {},
   "source": [
    "## Data Preprocessing & Exploration"
   ]
  },
  {
   "cell_type": "markdown",
   "metadata": {},
   "source": [
    "### Data Preprocessing"
   ]
  },
  {
   "cell_type": "code",
   "execution_count": 30,
   "metadata": {},
   "outputs": [],
   "source": [
    "raw_df = pd.read_csv('../data/raw_data.csv')"
   ]
  },
  {
   "cell_type": "markdown",
   "metadata": {},
   "source": [
    "#### Check for duplicate row in data "
   ]
  },
  {
   "cell_type": "code",
   "execution_count": 31,
   "metadata": {},
   "outputs": [
    {
     "name": "stdout",
     "output_type": "stream",
     "text": [
      "Data have no duplicated line.!\n"
     ]
    }
   ],
   "source": [
    "index = raw_df.index\n",
    "detectDupSeries = index.duplicated(keep='first')\n",
    "num_duplicated_rows = detectDupSeries.sum()\n",
    "\n",
    "if num_duplicated_rows == 0:\n",
    "    print(f\"Data have no duplicated line.!\")\n",
    "else:\n",
    "    if num_duplicated_rows > 1:\n",
    "        ext = \"lines\"\n",
    "    else:\n",
    "        ext = \"line\"\n",
    "    print(f\"Data have {num_duplicated_rows} duplicated \" + ext + \". Please de-deduplicate your raw data.!\")"
   ]
  },
  {
   "cell_type": "markdown",
   "metadata": {},
   "source": [
    "#### Choosing attribute"
   ]
  },
  {
   "cell_type": "markdown",
   "metadata": {},
   "source": [
    "There are 161 features in the dataframe which is too many so our goal is to reduce it down to at least 30-40 features.\n",
    "\n",
    "First we find the columns that has NaN value."
   ]
  },
  {
   "cell_type": "code",
   "execution_count": 32,
   "metadata": {},
   "outputs": [
    {
     "data": {
      "text/plain": [
       "41"
      ]
     },
     "execution_count": 32,
     "metadata": {},
     "output_type": "execute_result"
    }
   ],
   "source": [
    "nan_count = raw_df.isna().sum()\n",
    "\n",
    "columns_with_NaN_value = nan_count[nan_count > 0]\n",
    "len(columns_with_NaN_value)"
   ]
  },
  {
   "cell_type": "markdown",
   "metadata": {},
   "source": [
    "There are 41 columns in the dataset that has NaN value. So we will delete columns that 20% of them are NaN values."
   ]
  },
  {
   "cell_type": "code",
   "execution_count": 33,
   "metadata": {},
   "outputs": [
    {
     "data": {
      "text/plain": [
       "(3491, 144)"
      ]
     },
     "execution_count": 33,
     "metadata": {},
     "output_type": "execute_result"
    }
   ],
   "source": [
    "chosen_columns = nan_count[nan_count > raw_df.shape[0]*0.2]\n",
    "del_columns = chosen_columns.index.tolist()\n",
    "for name in del_columns:\n",
    "    del raw_df[name]\n",
    "raw_df.shape"
   ]
  },
  {
   "cell_type": "markdown",
   "metadata": {},
   "source": [
    "We see there are a lot of columns in the dataframe that has a lot of 0 value. So we will choose which one to eliminate."
   ]
  },
  {
   "cell_type": "code",
   "execution_count": 34,
   "metadata": {},
   "outputs": [
    {
     "data": {
      "text/plain": [
       "101"
      ]
     },
     "execution_count": 34,
     "metadata": {},
     "output_type": "execute_result"
    }
   ],
   "source": [
    "columns_with_0 = raw_df.columns[(raw_df == 0).sum() > 0]\n",
    "len(columns_with_0)"
   ]
  },
  {
   "cell_type": "code",
   "execution_count": 35,
   "metadata": {},
   "outputs": [
    {
     "data": {
      "text/plain": [
       "76"
      ]
     },
     "execution_count": 35,
     "metadata": {},
     "output_type": "execute_result"
    }
   ],
   "source": [
    "columns_with_0 = raw_df.columns[(raw_df == 0).sum() > raw_df.shape[0]*0.2]\n",
    "len(columns_with_0)"
   ]
  },
  {
   "cell_type": "code",
   "execution_count": 36,
   "metadata": {},
   "outputs": [
    {
     "data": {
      "text/plain": [
       "64"
      ]
     },
     "execution_count": 36,
     "metadata": {},
     "output_type": "execute_result"
    }
   ],
   "source": [
    "columns_with_0 = raw_df.columns[(raw_df == 0).sum() > raw_df.shape[0]*0.5]\n",
    "len(columns_with_0)"
   ]
  },
  {
   "cell_type": "markdown",
   "metadata": {},
   "source": [
    "There are over 101 columns that filled with 0 so we will try our best to remove as many columns as possible. There is not much difference between the number of columns with 50% zero and the number of columns with 20% zero so we will choose threshold 20% so we can remove more columns."
   ]
  },
  {
   "cell_type": "code",
   "execution_count": 37,
   "metadata": {},
   "outputs": [
    {
     "data": {
      "text/plain": [
       "(3491, 68)"
      ]
     },
     "execution_count": 37,
     "metadata": {},
     "output_type": "execute_result"
    }
   ],
   "source": [
    "drop_columns = raw_df.columns[(raw_df == 0).sum() > raw_df.shape[0]*0.2]\n",
    "raw_df = raw_df.drop(columns=drop_columns)\n",
    "raw_df.shape"
   ]
  },
  {
   "cell_type": "markdown",
   "metadata": {},
   "source": [
    "The dataframe now only has 68 columns. Next our group will eliminate attributes that our group think it is irrelevant."
   ]
  },
  {
   "cell_type": "code",
   "execution_count": 38,
   "metadata": {},
   "outputs": [],
   "source": [
    "del raw_df['hospital_org_id'], raw_df['hospital_data_id'], raw_df['updated_dt_x'], raw_df['updated_dt_y']\n",
    "del raw_df['zip_code'], raw_df['fips_state_and_county_code'], raw_df['data_ein'], raw_df['name_cr'], raw_df['data_name'], raw_df['hospital_bed_size']\n",
    "del raw_df['form_990_name'], raw_df['form_990_address'], raw_df['form_990_city'], raw_df['form_990_state'], raw_df['form_990_zip']\n",
    "del raw_df['per_capita_inc_qrt'], raw_df['med_hsehld_inc_qrt'], raw_df['percent_ppl_pov_qrt'], raw_df['percent_ppl_65_yrs_old_without_hlth_insr_qrt'], raw_df['unemp_rate_16_yrs_older_qrt']"
   ]
  },
  {
   "cell_type": "markdown",
   "metadata": {},
   "source": [
    "- hospital_org_id and hospital_data_id are similar to hospital_id so we delete it.\n",
    "- updated_dt_x and updated_dt_y are the day the record was updated so it is irrelevant.\n",
    "- zip_code and fips_state_and_country_code are irrelevant here because we already have hospital_id and name to differentiate each hospital.\n",
    "- name_cr and data_name are basically similar to name, data_ein is similar to ein.\n",
    "- The attributes start with 'form_990' that I selected are just similar to the columns we already have.\n",
    "- We don't really need the attributes that end with '_qrt' because we already have them in number so we don't need to calculate it in quartile."
   ]
  },
  {
   "cell_type": "markdown",
   "metadata": {},
   "source": [
    "Many columns are just flag, so we will select carefully attributes to delete"
   ]
  },
  {
   "cell_type": "code",
   "execution_count": 39,
   "metadata": {},
   "outputs": [
    {
     "name": "stdout",
     "output_type": "stream",
     "text": [
      "chrch_affl_f\n",
      "347\n",
      "urban_location_f\n",
      "2288\n",
      "children_hospital_f\n",
      "101\n",
      "memb_counc_teach_hosps_f\n",
      "1099\n",
      "form_990_filed_part_grp_ret_f\n",
      "1481\n",
      "sole_comm_prov_f\n",
      "25\n",
      "written_fncl_asst_policy_f\n",
      "3484\n",
      "used_fed_pov_gdlns_det_elig_free_disc_care_f\n",
      "3473\n",
      "chna_cond_comm_hlth_needs_assmt_f\n",
      "3316\n",
      "chna_defined_comm_served_f\n",
      "3314\n",
      "chna_took_into_acct_input_ppl_rep_broad_intrst_comm_served_f\n",
      "3313\n",
      "chna_cond_w_mult_hosp_facilities_f\n",
      "2004\n",
      "chna_made_wide_avail_pub_f\n",
      "3318\n",
      "hosp_adp_imp_stg_addr_hlth_needs_comm_f\n",
      "3284\n",
      "st_impl_aca_medcd_exp_cvrg_adlts_w_incs_up_138pct_fpl_f\n",
      "2205\n",
      "st_law_req_hosp_rpt_comm_bnfts_f\n",
      "2480\n",
      "paper_return_f\n",
      "65\n"
     ]
    }
   ],
   "source": [
    "columns_with_Y = raw_df.columns[(raw_df == 'Y').sum() > 0]\n",
    "for x in columns_with_Y:\n",
    "    print(x)\n",
    "    print(raw_df[x].value_counts()['Y'])"
   ]
  },
  {
   "cell_type": "markdown",
   "metadata": {},
   "source": [
    "If the values in column are divided so unevenly we will delete it because I think that's when the attribute is less effective. If the column is 80% Yes or No we will delete it."
   ]
  },
  {
   "cell_type": "code",
   "execution_count": 40,
   "metadata": {},
   "outputs": [
    {
     "data": {
      "text/plain": [
       "(3491, 37)"
      ]
     },
     "execution_count": 40,
     "metadata": {},
     "output_type": "execute_result"
    }
   ],
   "source": [
    "drop_columns_Y = raw_df.columns[(raw_df == 'Y').sum() > raw_df.shape[0]*0.8]\n",
    "raw_df = raw_df.drop(columns=drop_columns_Y)\n",
    "\n",
    "drop_columns_N = raw_df.columns[(raw_df == 'N').sum() > raw_df.shape[0]*0.8]\n",
    "raw_df = raw_df.drop(columns=drop_columns_N)\n",
    "\n",
    "raw_df.shape"
   ]
  },
  {
   "cell_type": "markdown",
   "metadata": {},
   "source": [
    "Next we need to fill in NaN value in those columns that have it."
   ]
  },
  {
   "cell_type": "code",
   "execution_count": 41,
   "metadata": {},
   "outputs": [
    {
     "data": {
      "text/plain": [
       "county                                                   1\n",
       "tot_comm_bnfts_tot_func_exp_pct                          7\n",
       "chrty_care_tot_func_exp_pct                              7\n",
       "unreim_medcd_tot_func_exp_pct                            7\n",
       "comm_hlth_impr_svcs_comm_bnft_oper_tot_func_exp_pct      7\n",
       "bad_debt_tot_func_exp_pct                                7\n",
       "mdcre_shrtfl_tot_func_exp_pct                            7\n",
       "rat_pat_care_npat_care_comm_bnfts                      266\n",
       "chna_cond_w_mult_hosp_facilities_f                     169\n",
       "dtype: int64"
      ]
     },
     "execution_count": 41,
     "metadata": {},
     "output_type": "execute_result"
    }
   ],
   "source": [
    "nan_count = raw_df.isna().sum()\n",
    "columns_with_NaN_value = nan_count[nan_count > 0]\n",
    "columns_with_NaN_value"
   ]
  },
  {
   "cell_type": "markdown",
   "metadata": {},
   "source": [
    "There are some columns that have type object so we will exclude them when we fill in the NaN value with the median of the column."
   ]
  },
  {
   "cell_type": "code",
   "execution_count": 42,
   "metadata": {},
   "outputs": [],
   "source": [
    "nan_count = raw_df.isna().sum()\n",
    "columns_with_NaN_value = nan_count[nan_count > 0]\n",
    "columns_with_NaN_value = columns_with_NaN_value.index.to_list()\n",
    "num_df = raw_df.select_dtypes(exclude='object')\n",
    "fill_col = num_df.columns.intersection(columns_with_NaN_value)\n",
    "for name in fill_col:\n",
    "    raw_df[name] = raw_df[name].fillna(raw_df[name].median())"
   ]
  },
  {
   "cell_type": "markdown",
   "metadata": {},
   "source": [
    "We save the data that has been preprocessed as final_data.csv."
   ]
  },
  {
   "cell_type": "code",
   "execution_count": 43,
   "metadata": {},
   "outputs": [],
   "source": [
    "raw_df.to_csv('../data/final_data.csv', index=False)"
   ]
  },
  {
   "cell_type": "markdown",
   "metadata": {},
   "source": [
    "### Data exploration"
   ]
  },
  {
   "cell_type": "code",
   "execution_count": 44,
   "metadata": {},
   "outputs": [],
   "source": [
    "df = pd.read_csv('../data/final_data.csv')"
   ]
  },
  {
   "cell_type": "markdown",
   "metadata": {},
   "source": [
    "#### How many rows and how many columns does the raw data have?"
   ]
  },
  {
   "cell_type": "code",
   "execution_count": 45,
   "metadata": {},
   "outputs": [
    {
     "name": "stdout",
     "output_type": "stream",
     "text": [
      "The data has 3491 rows and 37 columns.\n"
     ]
    }
   ],
   "source": [
    "shape = df.shape\n",
    "print(f\"The data has {shape[0]} rows and {shape[1]} columns.\")"
   ]
  },
  {
   "cell_type": "markdown",
   "metadata": {},
   "source": [
    "#### What data type does each column currently have?"
   ]
  },
  {
   "cell_type": "code",
   "execution_count": 46,
   "metadata": {},
   "outputs": [
    {
     "data": {
      "text/plain": [
       "hospital_id                                                  int64\n",
       "ein                                                          int64\n",
       "name                                                        object\n",
       "street_address                                              object\n",
       "city                                                        object\n",
       "state                                                       object\n",
       "hospital_bed_count                                           int64\n",
       "urban_location_f                                            object\n",
       "memb_counc_teach_hosps_f                                    object\n",
       "medicare_provider_number                                     int64\n",
       "county                                                      object\n",
       "fiscal_yr                                                    int64\n",
       "form_990_filed_part_grp_ret_f                               object\n",
       "form_990_num_fac_oper                                        int64\n",
       "tot_func_exp                                                 int64\n",
       "tot_revenue                                                  int64\n",
       "tot_comm_bnfts                                               int64\n",
       "chrty_care                                                   int64\n",
       "unreim_medcd                                                 int64\n",
       "comm_hlth_impr_svcs_comm_bnft_oper                           int64\n",
       "bad_debt                                                     int64\n",
       "mdcre_shrtfl                                                 int64\n",
       "tot_comm_bnfts_tot_func_exp_pct                            float64\n",
       "chrty_care_tot_func_exp_pct                                float64\n",
       "unreim_medcd_tot_func_exp_pct                              float64\n",
       "comm_hlth_impr_svcs_comm_bnft_oper_tot_func_exp_pct        float64\n",
       "bad_debt_tot_func_exp_pct                                  float64\n",
       "mdcre_shrtfl_tot_func_exp_pct                              float64\n",
       "rat_pat_care_npat_care_comm_bnfts                          float64\n",
       "chna_cond_w_mult_hosp_facilities_f                          object\n",
       "per_capita_inc                                               int64\n",
       "med_hsehld_inc                                               int64\n",
       "percent_ppl_pov_pct                                        float64\n",
       "percent_ppl_65_yrs_old_without_hlth_insr_pct               float64\n",
       "unemp_rate_16_yrs_older                                    float64\n",
       "st_impl_aca_medcd_exp_cvrg_adlts_w_incs_up_138pct_fpl_f     object\n",
       "st_law_req_hosp_rpt_comm_bnfts_f                            object\n",
       "dtype: object"
      ]
     },
     "execution_count": 46,
     "metadata": {},
     "output_type": "execute_result"
    }
   ],
   "source": [
    "df.dtypes"
   ]
  },
  {
   "cell_type": "markdown",
   "metadata": {},
   "source": [
    "The data type looks suitable for us to explore."
   ]
  },
  {
   "cell_type": "markdown",
   "metadata": {},
   "source": [
    "#### What does each column mean?"
   ]
  },
  {
   "cell_type": "code",
   "execution_count": 47,
   "metadata": {},
   "outputs": [
    {
     "data": {
      "text/html": [
       "<div>\n",
       "<style scoped>\n",
       "    .dataframe tbody tr th:only-of-type {\n",
       "        vertical-align: middle;\n",
       "    }\n",
       "\n",
       "    .dataframe tbody tr th {\n",
       "        vertical-align: top;\n",
       "    }\n",
       "\n",
       "    .dataframe thead th {\n",
       "        text-align: right;\n",
       "    }\n",
       "</style>\n",
       "<table border=\"1\" class=\"dataframe\">\n",
       "  <thead>\n",
       "    <tr style=\"text-align: right;\">\n",
       "      <th></th>\n",
       "      <th>Column</th>\n",
       "      <th>Meaning</th>\n",
       "    </tr>\n",
       "  </thead>\n",
       "  <tbody>\n",
       "    <tr>\n",
       "      <th>0</th>\n",
       "      <td>hospital_id</td>\n",
       "      <td>Internal hospital ID</td>\n",
       "    </tr>\n",
       "    <tr>\n",
       "      <th>1</th>\n",
       "      <td>ein</td>\n",
       "      <td>Hospital EIN</td>\n",
       "    </tr>\n",
       "    <tr>\n",
       "      <th>2</th>\n",
       "      <td>name</td>\n",
       "      <td>Hospital name</td>\n",
       "    </tr>\n",
       "    <tr>\n",
       "      <th>3</th>\n",
       "      <td>street_address</td>\n",
       "      <td>Street address</td>\n",
       "    </tr>\n",
       "    <tr>\n",
       "      <th>4</th>\n",
       "      <td>city</td>\n",
       "      <td>City</td>\n",
       "    </tr>\n",
       "    <tr>\n",
       "      <th>5</th>\n",
       "      <td>state</td>\n",
       "      <td>State</td>\n",
       "    </tr>\n",
       "    <tr>\n",
       "      <th>6</th>\n",
       "      <td>hospital_bed_count</td>\n",
       "      <td>Number of beds</td>\n",
       "    </tr>\n",
       "    <tr>\n",
       "      <th>7</th>\n",
       "      <td>urban_location_f</td>\n",
       "      <td>Urban location flag</td>\n",
       "    </tr>\n",
       "    <tr>\n",
       "      <th>8</th>\n",
       "      <td>memb_counc_teach_hosps_f</td>\n",
       "      <td>Member of the Council of Teaching Hospitals flag</td>\n",
       "    </tr>\n",
       "    <tr>\n",
       "      <th>9</th>\n",
       "      <td>county</td>\n",
       "      <td>Hospital county</td>\n",
       "    </tr>\n",
       "    <tr>\n",
       "      <th>10</th>\n",
       "      <td>fiscal_yr</td>\n",
       "      <td>Fiscal Year</td>\n",
       "    </tr>\n",
       "    <tr>\n",
       "      <th>11</th>\n",
       "      <td>form_990_filed_part_grp_ret_f</td>\n",
       "      <td>Form 990 was filed as part of a group return</td>\n",
       "    </tr>\n",
       "    <tr>\n",
       "      <th>12</th>\n",
       "      <td>form_990_num_fac_oper</td>\n",
       "      <td>Form 990 number of facilities operated</td>\n",
       "    </tr>\n",
       "    <tr>\n",
       "      <th>13</th>\n",
       "      <td>tot_func_exp</td>\n",
       "      <td>Total functional expenses</td>\n",
       "    </tr>\n",
       "    <tr>\n",
       "      <th>14</th>\n",
       "      <td>tot_revenue</td>\n",
       "      <td>Total revenue</td>\n",
       "    </tr>\n",
       "    <tr>\n",
       "      <th>15</th>\n",
       "      <td>tot_comm_bnfts</td>\n",
       "      <td>Total community benefits</td>\n",
       "    </tr>\n",
       "    <tr>\n",
       "      <th>16</th>\n",
       "      <td>chrty_care</td>\n",
       "      <td>Charity care</td>\n",
       "    </tr>\n",
       "    <tr>\n",
       "      <th>17</th>\n",
       "      <td>unreim_medcd</td>\n",
       "      <td>Unreimbursed Medicaid</td>\n",
       "    </tr>\n",
       "    <tr>\n",
       "      <th>18</th>\n",
       "      <td>unreim_costs</td>\n",
       "      <td>Unreimbursed costs</td>\n",
       "    </tr>\n",
       "    <tr>\n",
       "      <th>19</th>\n",
       "      <td>comm_hlth_impr_svcs_comm_bnft_oper</td>\n",
       "      <td>Community health improvement services and community benefit operations</td>\n",
       "    </tr>\n",
       "    <tr>\n",
       "      <th>20</th>\n",
       "      <td>bad_debt</td>\n",
       "      <td>Bad debt</td>\n",
       "    </tr>\n",
       "    <tr>\n",
       "      <th>21</th>\n",
       "      <td>mdcre_shrtfl</td>\n",
       "      <td>Medicare Shortfall (negative value indicates surplus)</td>\n",
       "    </tr>\n",
       "    <tr>\n",
       "      <th>22</th>\n",
       "      <td>tot_comm_bnfts_tot_func_exp_pct</td>\n",
       "      <td>Total community benefits as % of total functional expenses</td>\n",
       "    </tr>\n",
       "    <tr>\n",
       "      <th>23</th>\n",
       "      <td>chrty_care_tot_func_exp_pct</td>\n",
       "      <td>Charity care as % of total functional expenses</td>\n",
       "    </tr>\n",
       "    <tr>\n",
       "      <th>24</th>\n",
       "      <td>unreim_medcd_tot_func_exp_pct</td>\n",
       "      <td>Unreimbursed Medicaid as % of total functional expenses</td>\n",
       "    </tr>\n",
       "    <tr>\n",
       "      <th>25</th>\n",
       "      <td>comm_hlth_impr_svcs_comm_bnft_oper_tot_func_exp_pct</td>\n",
       "      <td>Community health improvement services and community benefit operations as % of total functional expenses</td>\n",
       "    </tr>\n",
       "    <tr>\n",
       "      <th>26</th>\n",
       "      <td>bad_debt_tot_func_exp_pct</td>\n",
       "      <td>Bad debt as % of total functional expenses</td>\n",
       "    </tr>\n",
       "    <tr>\n",
       "      <th>27</th>\n",
       "      <td>mdcre_shrtfl_tot_func_exp_pct</td>\n",
       "      <td>Medicare Shortfall as % of total functional expenses (negative value indicates surplus)</td>\n",
       "    </tr>\n",
       "    <tr>\n",
       "      <th>28</th>\n",
       "      <td>rat_pat_care_npat_care_comm_bnfts</td>\n",
       "      <td>Ratio of Patient Care to Non-patient Care Community Benefits</td>\n",
       "    </tr>\n",
       "    <tr>\n",
       "      <th>29</th>\n",
       "      <td>chna_cond_w_mult_hosp_facilities_f</td>\n",
       "      <td>CHNA conducted with multiple hospital facilities</td>\n",
       "    </tr>\n",
       "    <tr>\n",
       "      <th>30</th>\n",
       "      <td>per_capita_inc</td>\n",
       "      <td>per capita income</td>\n",
       "    </tr>\n",
       "    <tr>\n",
       "      <th>31</th>\n",
       "      <td>med_hsehld_inc</td>\n",
       "      <td>median household income</td>\n",
       "    </tr>\n",
       "    <tr>\n",
       "      <th>32</th>\n",
       "      <td>percent_ppl_pov</td>\n",
       "      <td>percent persons in poverty</td>\n",
       "    </tr>\n",
       "    <tr>\n",
       "      <th>33</th>\n",
       "      <td>percent_ppl_65_yrs_old_without_hlth_insr</td>\n",
       "      <td>percent persons &lt;65 years old without health insurance</td>\n",
       "    </tr>\n",
       "    <tr>\n",
       "      <th>34</th>\n",
       "      <td>unemp_rate_16_yrs_older</td>\n",
       "      <td>unemployment rate 16 years and older</td>\n",
       "    </tr>\n",
       "    <tr>\n",
       "      <th>35</th>\n",
       "      <td>st_impl_aca_medcd_exp_cvrg_adlts_w_incs_up_138pct_fpl_f</td>\n",
       "      <td>State implemented ACA Medicaid expansion covering adults with incomes up to 138% FPL</td>\n",
       "    </tr>\n",
       "    <tr>\n",
       "      <th>36</th>\n",
       "      <td>st_law_req_hosp_rpt_comm_bnfts_f</td>\n",
       "      <td>State law requiring hospital to report community benefits</td>\n",
       "    </tr>\n",
       "  </tbody>\n",
       "</table>\n",
       "</div>"
      ],
      "text/plain": [
       "                                                     Column  \\\n",
       "0                                               hospital_id   \n",
       "1                                                       ein   \n",
       "2                                                      name   \n",
       "3                                            street_address   \n",
       "4                                                      city   \n",
       "5                                                     state   \n",
       "6                                        hospital_bed_count   \n",
       "7                                          urban_location_f   \n",
       "8                                  memb_counc_teach_hosps_f   \n",
       "9                                                    county   \n",
       "10                                                fiscal_yr   \n",
       "11                            form_990_filed_part_grp_ret_f   \n",
       "12                                    form_990_num_fac_oper   \n",
       "13                                             tot_func_exp   \n",
       "14                                              tot_revenue   \n",
       "15                                           tot_comm_bnfts   \n",
       "16                                               chrty_care   \n",
       "17                                             unreim_medcd   \n",
       "18                                             unreim_costs   \n",
       "19                       comm_hlth_impr_svcs_comm_bnft_oper   \n",
       "20                                                 bad_debt   \n",
       "21                                             mdcre_shrtfl   \n",
       "22                          tot_comm_bnfts_tot_func_exp_pct   \n",
       "23                              chrty_care_tot_func_exp_pct   \n",
       "24                            unreim_medcd_tot_func_exp_pct   \n",
       "25      comm_hlth_impr_svcs_comm_bnft_oper_tot_func_exp_pct   \n",
       "26                                bad_debt_tot_func_exp_pct   \n",
       "27                            mdcre_shrtfl_tot_func_exp_pct   \n",
       "28                        rat_pat_care_npat_care_comm_bnfts   \n",
       "29                       chna_cond_w_mult_hosp_facilities_f   \n",
       "30                                           per_capita_inc   \n",
       "31                                           med_hsehld_inc   \n",
       "32                                          percent_ppl_pov   \n",
       "33                 percent_ppl_65_yrs_old_without_hlth_insr   \n",
       "34                                  unemp_rate_16_yrs_older   \n",
       "35  st_impl_aca_medcd_exp_cvrg_adlts_w_incs_up_138pct_fpl_f   \n",
       "36                         st_law_req_hosp_rpt_comm_bnfts_f   \n",
       "\n",
       "                                                                                                     Meaning  \n",
       "0                                                                                       Internal hospital ID  \n",
       "1                                                                                               Hospital EIN  \n",
       "2                                                                                              Hospital name  \n",
       "3                                                                                             Street address  \n",
       "4                                                                                                       City  \n",
       "5                                                                                                      State  \n",
       "6                                                                                             Number of beds  \n",
       "7                                                                                        Urban location flag  \n",
       "8                                                           Member of the Council of Teaching Hospitals flag  \n",
       "9                                                                                            Hospital county  \n",
       "10                                                                                               Fiscal Year  \n",
       "11                                                              Form 990 was filed as part of a group return  \n",
       "12                                                                    Form 990 number of facilities operated  \n",
       "13                                                                                 Total functional expenses  \n",
       "14                                                                                             Total revenue  \n",
       "15                                                                                  Total community benefits  \n",
       "16                                                                                              Charity care  \n",
       "17                                                                                     Unreimbursed Medicaid  \n",
       "18                                                                                        Unreimbursed costs  \n",
       "19                                    Community health improvement services and community benefit operations  \n",
       "20                                                                                                  Bad debt  \n",
       "21                                                     Medicare Shortfall (negative value indicates surplus)  \n",
       "22                                                Total community benefits as % of total functional expenses  \n",
       "23                                                            Charity care as % of total functional expenses  \n",
       "24                                                   Unreimbursed Medicaid as % of total functional expenses  \n",
       "25  Community health improvement services and community benefit operations as % of total functional expenses  \n",
       "26                                                                Bad debt as % of total functional expenses  \n",
       "27                   Medicare Shortfall as % of total functional expenses (negative value indicates surplus)  \n",
       "28                                              Ratio of Patient Care to Non-patient Care Community Benefits  \n",
       "29                                                          CHNA conducted with multiple hospital facilities  \n",
       "30                                                                                         per capita income  \n",
       "31                                                                                   median household income  \n",
       "32                                                                                percent persons in poverty  \n",
       "33                                                    percent persons <65 years old without health insurance  \n",
       "34                                                                      unemployment rate 16 years and older  \n",
       "35                      State implemented ACA Medicaid expansion covering adults with incomes up to 138% FPL  \n",
       "36                                                 State law requiring hospital to report community benefits  "
      ]
     },
     "execution_count": 47,
     "metadata": {},
     "output_type": "execute_result"
    }
   ],
   "source": [
    "col_meaning_df = pd.read_csv('../data/data_schema.csv')\n",
    "# col_meaning_df.set_index('Column', inplace=True)\n",
    "pd.set_option('display.max_colwidth', 350)\n",
    "\n",
    "col_meaning_df"
   ]
  },
  {
   "cell_type": "markdown",
   "metadata": {},
   "source": [
    "#### For each column with numeric data type, how are the values distributed?\n",
    "\n",
    "For columns with numeric data types, we calculated:\n",
    "- Percentage (from 0 to 100) of missing values\n",
    "- The min\n",
    "- The lower quartile (phân vị 25)\n",
    "- The median (phân vị 50)\n",
    "- The upper quartile (phân vị 75)\n",
    "- The max"
   ]
  },
  {
   "cell_type": "code",
   "execution_count": 48,
   "metadata": {},
   "outputs": [
    {
     "data": {
      "text/html": [
       "<div>\n",
       "<style scoped>\n",
       "    .dataframe tbody tr th:only-of-type {\n",
       "        vertical-align: middle;\n",
       "    }\n",
       "\n",
       "    .dataframe tbody tr th {\n",
       "        vertical-align: top;\n",
       "    }\n",
       "\n",
       "    .dataframe thead th {\n",
       "        text-align: right;\n",
       "    }\n",
       "</style>\n",
       "<table border=\"1\" class=\"dataframe\">\n",
       "  <thead>\n",
       "    <tr style=\"text-align: right;\">\n",
       "      <th></th>\n",
       "      <th>ein</th>\n",
       "      <th>hospital_bed_count</th>\n",
       "      <th>medicare_provider_number</th>\n",
       "      <th>fiscal_yr</th>\n",
       "      <th>form_990_num_fac_oper</th>\n",
       "      <th>tot_func_exp</th>\n",
       "      <th>tot_revenue</th>\n",
       "      <th>tot_comm_bnfts</th>\n",
       "      <th>chrty_care</th>\n",
       "      <th>unreim_medcd</th>\n",
       "      <th>...</th>\n",
       "      <th>unreim_medcd_tot_func_exp_pct</th>\n",
       "      <th>comm_hlth_impr_svcs_comm_bnft_oper_tot_func_exp_pct</th>\n",
       "      <th>bad_debt_tot_func_exp_pct</th>\n",
       "      <th>mdcre_shrtfl_tot_func_exp_pct</th>\n",
       "      <th>rat_pat_care_npat_care_comm_bnfts</th>\n",
       "      <th>per_capita_inc</th>\n",
       "      <th>med_hsehld_inc</th>\n",
       "      <th>percent_ppl_pov_pct</th>\n",
       "      <th>percent_ppl_65_yrs_old_without_hlth_insr_pct</th>\n",
       "      <th>unemp_rate_16_yrs_older</th>\n",
       "    </tr>\n",
       "  </thead>\n",
       "  <tbody>\n",
       "    <tr>\n",
       "      <th>missing_ratio</th>\n",
       "      <td>0.0</td>\n",
       "      <td>0.0</td>\n",
       "      <td>0.0</td>\n",
       "      <td>0.0</td>\n",
       "      <td>0.0</td>\n",
       "      <td>0.000000e+00</td>\n",
       "      <td>0.000000e+00</td>\n",
       "      <td>0.000000e+00</td>\n",
       "      <td>0.0</td>\n",
       "      <td>0.000000e+00</td>\n",
       "      <td>...</td>\n",
       "      <td>0.000000</td>\n",
       "      <td>0.000000</td>\n",
       "      <td>0.000000</td>\n",
       "      <td>0.000000</td>\n",
       "      <td>0.000000</td>\n",
       "      <td>0.0</td>\n",
       "      <td>0.0</td>\n",
       "      <td>0.0</td>\n",
       "      <td>0.0</td>\n",
       "      <td>0.0</td>\n",
       "    </tr>\n",
       "    <tr>\n",
       "      <th>min</th>\n",
       "      <td>10130427.0</td>\n",
       "      <td>2.0</td>\n",
       "      <td>10007.0</td>\n",
       "      <td>2010.0</td>\n",
       "      <td>1.0</td>\n",
       "      <td>0.000000e+00</td>\n",
       "      <td>-1.615266e+08</td>\n",
       "      <td>-1.877057e+06</td>\n",
       "      <td>-7511212.0</td>\n",
       "      <td>-4.359135e+07</td>\n",
       "      <td>...</td>\n",
       "      <td>-100000.000000</td>\n",
       "      <td>-0.018872</td>\n",
       "      <td>-1.174136</td>\n",
       "      <td>-81.982677</td>\n",
       "      <td>-3372.579913</td>\n",
       "      <td>0.0</td>\n",
       "      <td>0.0</td>\n",
       "      <td>0.0</td>\n",
       "      <td>0.0</td>\n",
       "      <td>0.0</td>\n",
       "    </tr>\n",
       "    <tr>\n",
       "      <th>lower_quartile</th>\n",
       "      <td>352528741.0</td>\n",
       "      <td>32.0</td>\n",
       "      <td>141333.0</td>\n",
       "      <td>2021.0</td>\n",
       "      <td>1.0</td>\n",
       "      <td>6.311005e+07</td>\n",
       "      <td>6.592734e+07</td>\n",
       "      <td>4.182806e+06</td>\n",
       "      <td>464754.0</td>\n",
       "      <td>7.136190e+05</td>\n",
       "      <td>...</td>\n",
       "      <td>0.900000</td>\n",
       "      <td>0.000000</td>\n",
       "      <td>0.900000</td>\n",
       "      <td>-4.300000</td>\n",
       "      <td>0.900000</td>\n",
       "      <td>44490.0</td>\n",
       "      <td>51720.0</td>\n",
       "      <td>9.4</td>\n",
       "      <td>7.0</td>\n",
       "      <td>4.0</td>\n",
       "    </tr>\n",
       "    <tr>\n",
       "      <th>median</th>\n",
       "      <td>476028103.0</td>\n",
       "      <td>114.0</td>\n",
       "      <td>261335.0</td>\n",
       "      <td>2021.0</td>\n",
       "      <td>1.0</td>\n",
       "      <td>2.940063e+08</td>\n",
       "      <td>3.093186e+08</td>\n",
       "      <td>2.235120e+07</td>\n",
       "      <td>3236355.0</td>\n",
       "      <td>7.412280e+06</td>\n",
       "      <td>...</td>\n",
       "      <td>3.300000</td>\n",
       "      <td>0.100000</td>\n",
       "      <td>2.300000</td>\n",
       "      <td>-1.700000</td>\n",
       "      <td>2.500000</td>\n",
       "      <td>51141.0</td>\n",
       "      <td>60070.0</td>\n",
       "      <td>12.4</td>\n",
       "      <td>9.5</td>\n",
       "      <td>5.0</td>\n",
       "    </tr>\n",
       "    <tr>\n",
       "      <th>upper_quartile</th>\n",
       "      <td>741356589.0</td>\n",
       "      <td>275.0</td>\n",
       "      <td>390074.5</td>\n",
       "      <td>2021.0</td>\n",
       "      <td>5.0</td>\n",
       "      <td>1.292430e+09</td>\n",
       "      <td>1.423750e+09</td>\n",
       "      <td>1.267807e+08</td>\n",
       "      <td>18159097.0</td>\n",
       "      <td>4.264596e+07</td>\n",
       "      <td>...</td>\n",
       "      <td>6.000000</td>\n",
       "      <td>0.300000</td>\n",
       "      <td>4.700000</td>\n",
       "      <td>0.100000</td>\n",
       "      <td>6.800000</td>\n",
       "      <td>60138.0</td>\n",
       "      <td>71799.0</td>\n",
       "      <td>15.4</td>\n",
       "      <td>13.2</td>\n",
       "      <td>6.3</td>\n",
       "    </tr>\n",
       "    <tr>\n",
       "      <th>max</th>\n",
       "      <td>990269825.0</td>\n",
       "      <td>3060.0</td>\n",
       "      <td>670309.0</td>\n",
       "      <td>2021.0</td>\n",
       "      <td>43.0</td>\n",
       "      <td>2.881186e+10</td>\n",
       "      <td>3.222840e+10</td>\n",
       "      <td>1.411503e+09</td>\n",
       "      <td>333132504.0</td>\n",
       "      <td>1.089481e+09</td>\n",
       "      <td>...</td>\n",
       "      <td>742.167399</td>\n",
       "      <td>42593.461997</td>\n",
       "      <td>100000.000000</td>\n",
       "      <td>100000.000000</td>\n",
       "      <td>22391.329545</td>\n",
       "      <td>191220.0</td>\n",
       "      <td>155362.0</td>\n",
       "      <td>44.7</td>\n",
       "      <td>35.8</td>\n",
       "      <td>19.8</td>\n",
       "    </tr>\n",
       "  </tbody>\n",
       "</table>\n",
       "<p>6 rows × 25 columns</p>\n",
       "</div>"
      ],
      "text/plain": [
       "                        ein  hospital_bed_count  medicare_provider_number  \\\n",
       "missing_ratio           0.0                 0.0                       0.0   \n",
       "min              10130427.0                 2.0                   10007.0   \n",
       "lower_quartile  352528741.0                32.0                  141333.0   \n",
       "median          476028103.0               114.0                  261335.0   \n",
       "upper_quartile  741356589.0               275.0                  390074.5   \n",
       "max             990269825.0              3060.0                  670309.0   \n",
       "\n",
       "                fiscal_yr  form_990_num_fac_oper  tot_func_exp   tot_revenue  \\\n",
       "missing_ratio         0.0                    0.0  0.000000e+00  0.000000e+00   \n",
       "min                2010.0                    1.0  0.000000e+00 -1.615266e+08   \n",
       "lower_quartile     2021.0                    1.0  6.311005e+07  6.592734e+07   \n",
       "median             2021.0                    1.0  2.940063e+08  3.093186e+08   \n",
       "upper_quartile     2021.0                    5.0  1.292430e+09  1.423750e+09   \n",
       "max                2021.0                   43.0  2.881186e+10  3.222840e+10   \n",
       "\n",
       "                tot_comm_bnfts   chrty_care  unreim_medcd  ...  \\\n",
       "missing_ratio     0.000000e+00          0.0  0.000000e+00  ...   \n",
       "min              -1.877057e+06   -7511212.0 -4.359135e+07  ...   \n",
       "lower_quartile    4.182806e+06     464754.0  7.136190e+05  ...   \n",
       "median            2.235120e+07    3236355.0  7.412280e+06  ...   \n",
       "upper_quartile    1.267807e+08   18159097.0  4.264596e+07  ...   \n",
       "max               1.411503e+09  333132504.0  1.089481e+09  ...   \n",
       "\n",
       "                unreim_medcd_tot_func_exp_pct  \\\n",
       "missing_ratio                        0.000000   \n",
       "min                            -100000.000000   \n",
       "lower_quartile                       0.900000   \n",
       "median                               3.300000   \n",
       "upper_quartile                       6.000000   \n",
       "max                                742.167399   \n",
       "\n",
       "                comm_hlth_impr_svcs_comm_bnft_oper_tot_func_exp_pct  \\\n",
       "missing_ratio                                              0.000000   \n",
       "min                                                       -0.018872   \n",
       "lower_quartile                                             0.000000   \n",
       "median                                                     0.100000   \n",
       "upper_quartile                                             0.300000   \n",
       "max                                                    42593.461997   \n",
       "\n",
       "                bad_debt_tot_func_exp_pct  mdcre_shrtfl_tot_func_exp_pct  \\\n",
       "missing_ratio                    0.000000                       0.000000   \n",
       "min                             -1.174136                     -81.982677   \n",
       "lower_quartile                   0.900000                      -4.300000   \n",
       "median                           2.300000                      -1.700000   \n",
       "upper_quartile                   4.700000                       0.100000   \n",
       "max                         100000.000000                  100000.000000   \n",
       "\n",
       "                rat_pat_care_npat_care_comm_bnfts  per_capita_inc  \\\n",
       "missing_ratio                            0.000000             0.0   \n",
       "min                                  -3372.579913             0.0   \n",
       "lower_quartile                           0.900000         44490.0   \n",
       "median                                   2.500000         51141.0   \n",
       "upper_quartile                           6.800000         60138.0   \n",
       "max                                  22391.329545        191220.0   \n",
       "\n",
       "                med_hsehld_inc  percent_ppl_pov_pct  \\\n",
       "missing_ratio              0.0                  0.0   \n",
       "min                        0.0                  0.0   \n",
       "lower_quartile         51720.0                  9.4   \n",
       "median                 60070.0                 12.4   \n",
       "upper_quartile         71799.0                 15.4   \n",
       "max                   155362.0                 44.7   \n",
       "\n",
       "                percent_ppl_65_yrs_old_without_hlth_insr_pct  \\\n",
       "missing_ratio                                            0.0   \n",
       "min                                                      0.0   \n",
       "lower_quartile                                           7.0   \n",
       "median                                                   9.5   \n",
       "upper_quartile                                          13.2   \n",
       "max                                                     35.8   \n",
       "\n",
       "                unemp_rate_16_yrs_older  \n",
       "missing_ratio                       0.0  \n",
       "min                                 0.0  \n",
       "lower_quartile                      4.0  \n",
       "median                              5.0  \n",
       "upper_quartile                      6.3  \n",
       "max                                19.8  \n",
       "\n",
       "[6 rows x 25 columns]"
      ]
     },
     "execution_count": 48,
     "metadata": {},
     "output_type": "execute_result"
    }
   ],
   "source": [
    "num_col_info_df = df.select_dtypes(exclude='object')\n",
    "del num_col_info_df['hospital_id']\n",
    "def missing_ratio(s):\n",
    "    return (s.isna().mean() * 100).round(1)\n",
    "\n",
    "def median(df):\n",
    "    return (df.quantile(0.5)).round(1)\n",
    "\n",
    "def lower_quartile(df):\n",
    "    return (df.quantile(0.25)).round(1)\n",
    "\n",
    "def upper_quartile(df):\n",
    "    return (df.quantile(0.75)).round(1)\n",
    "\n",
    "num_col_info_df = num_col_info_df.agg([missing_ratio, \"min\", lower_quartile, median, upper_quartile, \"max\"])\n",
    "num_col_info_df"
   ]
  },
  {
   "cell_type": "markdown",
   "metadata": {},
   "source": [
    "#### For each column with categorical data type, how are the values distributed?"
   ]
  },
  {
   "cell_type": "code",
   "execution_count": 49,
   "metadata": {},
   "outputs": [
    {
     "data": {
      "text/html": [
       "<div>\n",
       "<style scoped>\n",
       "    .dataframe tbody tr th:only-of-type {\n",
       "        vertical-align: middle;\n",
       "    }\n",
       "\n",
       "    .dataframe tbody tr th {\n",
       "        vertical-align: top;\n",
       "    }\n",
       "\n",
       "    .dataframe thead th {\n",
       "        text-align: right;\n",
       "    }\n",
       "</style>\n",
       "<table border=\"1\" class=\"dataframe\">\n",
       "  <thead>\n",
       "    <tr style=\"text-align: right;\">\n",
       "      <th></th>\n",
       "      <th>name</th>\n",
       "      <th>street_address</th>\n",
       "      <th>city</th>\n",
       "      <th>state</th>\n",
       "      <th>urban_location_f</th>\n",
       "      <th>memb_counc_teach_hosps_f</th>\n",
       "      <th>county</th>\n",
       "      <th>form_990_filed_part_grp_ret_f</th>\n",
       "      <th>chna_cond_w_mult_hosp_facilities_f</th>\n",
       "      <th>st_impl_aca_medcd_exp_cvrg_adlts_w_incs_up_138pct_fpl_f</th>\n",
       "      <th>st_law_req_hosp_rpt_comm_bnfts_f</th>\n",
       "    </tr>\n",
       "  </thead>\n",
       "  <tbody>\n",
       "    <tr>\n",
       "      <th>missing_ratio</th>\n",
       "      <td>0.0</td>\n",
       "      <td>0.0</td>\n",
       "      <td>0.0</td>\n",
       "      <td>0.0</td>\n",
       "      <td>0.0</td>\n",
       "      <td>0.0</td>\n",
       "      <td>0.0</td>\n",
       "      <td>0.0</td>\n",
       "      <td>4.8</td>\n",
       "      <td>0.0</td>\n",
       "      <td>0.0</td>\n",
       "    </tr>\n",
       "    <tr>\n",
       "      <th>num_values</th>\n",
       "      <td>3330</td>\n",
       "      <td>3439</td>\n",
       "      <td>2192</td>\n",
       "      <td>51</td>\n",
       "      <td>2</td>\n",
       "      <td>2</td>\n",
       "      <td>1195</td>\n",
       "      <td>2</td>\n",
       "      <td>2</td>\n",
       "      <td>2</td>\n",
       "      <td>2</td>\n",
       "    </tr>\n",
       "    <tr>\n",
       "      <th>value_ratios</th>\n",
       "      <td>{'Mercy Medical Center': 0.2, 'St Marys Hospital': 0.2, 'St Francis Hospital': 0.2, 'St Josephs ...</td>\n",
       "      <td>{'100 Hospital Drive': 0.1, 'One Hospital Drive': 0.1, '100 Medical Center Drive': 0.1, '200 Hos...</td>\n",
       "      <td>{'Chicago': 0.7, 'Philadelphia': 0.5, 'Baltimore': 0.4, 'Columbus': 0.4, 'New York': 0.4, 'Dalla...</td>\n",
       "      <td>{'CA': 6.9, 'TX': 6.5, 'NY': 5.3, 'PA': 5.2, 'OH': 4.6, 'IL': 4.4, 'MI': 3.8, 'WI': 3.8, 'MN': 3...</td>\n",
       "      <td>{'Y': 65.5, 'N': 34.5}</td>\n",
       "      <td>{'N': 68.5, 'Y': 31.5}</td>\n",
       "      <td>{'Los Angeles County': 1.5, 'Cook County': 1.3, 'Jefferson County': 1.1, 'Montgomery County': 1....</td>\n",
       "      <td>{'N': 57.6, 'Y': 42.4}</td>\n",
       "      <td>{'Y': 60.3, 'N': 39.7}</td>\n",
       "      <td>{'Y': 63.2, 'N': 36.8}</td>\n",
       "      <td>{'Y': 71.0, 'N': 29.0}</td>\n",
       "    </tr>\n",
       "  </tbody>\n",
       "</table>\n",
       "</div>"
      ],
      "text/plain": [
       "                                                                                                              name  \\\n",
       "missing_ratio                                                                                                  0.0   \n",
       "num_values                                                                                                    3330   \n",
       "value_ratios   {'Mercy Medical Center': 0.2, 'St Marys Hospital': 0.2, 'St Francis Hospital': 0.2, 'St Josephs ...   \n",
       "\n",
       "                                                                                                    street_address  \\\n",
       "missing_ratio                                                                                                  0.0   \n",
       "num_values                                                                                                    3439   \n",
       "value_ratios   {'100 Hospital Drive': 0.1, 'One Hospital Drive': 0.1, '100 Medical Center Drive': 0.1, '200 Hos...   \n",
       "\n",
       "                                                                                                              city  \\\n",
       "missing_ratio                                                                                                  0.0   \n",
       "num_values                                                                                                    2192   \n",
       "value_ratios   {'Chicago': 0.7, 'Philadelphia': 0.5, 'Baltimore': 0.4, 'Columbus': 0.4, 'New York': 0.4, 'Dalla...   \n",
       "\n",
       "                                                                                                             state  \\\n",
       "missing_ratio                                                                                                  0.0   \n",
       "num_values                                                                                                      51   \n",
       "value_ratios   {'CA': 6.9, 'TX': 6.5, 'NY': 5.3, 'PA': 5.2, 'OH': 4.6, 'IL': 4.4, 'MI': 3.8, 'WI': 3.8, 'MN': 3...   \n",
       "\n",
       "                     urban_location_f memb_counc_teach_hosps_f  \\\n",
       "missing_ratio                     0.0                      0.0   \n",
       "num_values                          2                        2   \n",
       "value_ratios   {'Y': 65.5, 'N': 34.5}   {'N': 68.5, 'Y': 31.5}   \n",
       "\n",
       "                                                                                                            county  \\\n",
       "missing_ratio                                                                                                  0.0   \n",
       "num_values                                                                                                    1195   \n",
       "value_ratios   {'Los Angeles County': 1.5, 'Cook County': 1.3, 'Jefferson County': 1.1, 'Montgomery County': 1....   \n",
       "\n",
       "              form_990_filed_part_grp_ret_f  \\\n",
       "missing_ratio                           0.0   \n",
       "num_values                                2   \n",
       "value_ratios         {'N': 57.6, 'Y': 42.4}   \n",
       "\n",
       "              chna_cond_w_mult_hosp_facilities_f  \\\n",
       "missing_ratio                                4.8   \n",
       "num_values                                     2   \n",
       "value_ratios              {'Y': 60.3, 'N': 39.7}   \n",
       "\n",
       "              st_impl_aca_medcd_exp_cvrg_adlts_w_incs_up_138pct_fpl_f  \\\n",
       "missing_ratio                                                     0.0   \n",
       "num_values                                                          2   \n",
       "value_ratios                                   {'Y': 63.2, 'N': 36.8}   \n",
       "\n",
       "              st_law_req_hosp_rpt_comm_bnfts_f  \n",
       "missing_ratio                              0.0  \n",
       "num_values                                   2  \n",
       "value_ratios            {'Y': 71.0, 'N': 29.0}  "
      ]
     },
     "execution_count": 49,
     "metadata": {},
     "output_type": "execute_result"
    }
   ],
   "source": [
    "pd.set_option('display.max_colwidth', 100)\n",
    "pd.set_option('display.max_columns', None)\n",
    "\n",
    "cat_col_info_df = df.select_dtypes(include='object')\n",
    "\n",
    "def missing_ratio(s):\n",
    "    return (s.isna().mean() * 100).round(1)\n",
    "\n",
    "def num_values(s):\n",
    "    s = s.str.split(';')\n",
    "    s = s.explode()\n",
    "    return len(s.value_counts())\n",
    "\n",
    "def value_ratios(s):\n",
    "    s = s.str.split(';')\n",
    "    s = s.explode()\n",
    "    totalCount = (~s.isna()).sum()\n",
    "    return ((s.value_counts()/totalCount*100).round(1)).to_dict()\n",
    "\n",
    "cat_col_info_df = cat_col_info_df.agg([missing_ratio, num_values, value_ratios])\n",
    "cat_col_info_df"
   ]
  }
 ],
 "metadata": {
  "kernelspec": {
   "display_name": "Python 3",
   "language": "python",
   "name": "python3"
  },
  "language_info": {
   "codemirror_mode": {
    "name": "ipython",
    "version": 3
   },
   "file_extension": ".py",
   "mimetype": "text/x-python",
   "name": "python",
   "nbconvert_exporter": "python",
   "pygments_lexer": "ipython3",
   "version": "3.11.3"
  }
 },
 "nbformat": 4,
 "nbformat_minor": 2
}
